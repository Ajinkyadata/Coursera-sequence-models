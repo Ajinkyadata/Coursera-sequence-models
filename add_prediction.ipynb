{
  "nbformat": 4,
  "nbformat_minor": 0,
  "metadata": {
    "colab": {
      "name": "add_prediction.ipynb",
      "provenance": [],
      "collapsed_sections": [],
      "authorship_tag": "ABX9TyNcnGb4XL4JVGmd8S2kIkwJ",
      "include_colab_link": true
    },
    "kernelspec": {
      "name": "python3",
      "display_name": "Python 3"
    }
  },
  "cells": [
    {
      "cell_type": "markdown",
      "metadata": {
        "id": "view-in-github",
        "colab_type": "text"
      },
      "source": [
        "<a href=\"https://colab.research.google.com/github/Ajinkyadata/Coursera-sequence-models/blob/master/add_prediction.ipynb\" target=\"_parent\"><img src=\"https://colab.research.google.com/assets/colab-badge.svg\" alt=\"Open In Colab\"/></a>"
      ]
    },
    {
      "cell_type": "code",
      "metadata": {
        "id": "Im_YtB1QeXkd",
        "colab_type": "code",
        "colab": {}
      },
      "source": [
        "import glob\n",
        "import pickle\n",
        "import numpy as np\n",
        "from music21 import converter, instrument, note, chord, stream\n",
        "from keras.models import Sequential\n",
        "from keras.layers import *\n",
        "from keras.utils import np_utils\n",
        "from keras.callbacks import ModelCheckpoint"
      ],
      "execution_count": 0,
      "outputs": []
    },
    {
      "cell_type": "code",
      "metadata": {
        "id": "Az7vBOtZdp1q",
        "colab_type": "code",
        "colab": {}
      },
      "source": [
        "chars = '0123456789+'"
      ],
      "execution_count": 0,
      "outputs": []
    },
    {
      "cell_type": "code",
      "metadata": {
        "id": "RdfnpRzsd2pE",
        "colab_type": "code",
        "colab": {}
      },
      "source": [
        "num=len(chars)"
      ],
      "execution_count": 0,
      "outputs": []
    },
    {
      "cell_type": "code",
      "metadata": {
        "id": "cK-sQNz3d9eV",
        "colab_type": "code",
        "colab": {}
      },
      "source": [
        "char_ind = dict((c,i) for i, c in enumerate(chars))\n",
        "ind_char=dict((i,c) for i,c in enumerate(chars))"
      ],
      "execution_count": 0,
      "outputs": []
    },
    {
      "cell_type": "code",
      "metadata": {
        "id": "MamCmLcuevyM",
        "colab_type": "code",
        "colab": {}
      },
      "source": [
        "def generate():\n",
        "  one=np.random.randint(0,100)\n",
        "  two=np.random.randint(0,100)\n",
        "\n",
        "  ans=str(one)+str('+')+str(two)\n",
        "  label=str(one+two)\n",
        "\n",
        "  return ans, label"
      ],
      "execution_count": 0,
      "outputs": []
    },
    {
      "cell_type": "code",
      "metadata": {
        "id": "1DHNurYcfVbK",
        "colab_type": "code",
        "colab": {
          "base_uri": "https://localhost:8080/",
          "height": 34
        },
        "outputId": "8f9fda82-b2c4-4a30-fb38-78a7e1d6c1ed"
      },
      "source": [
        "generate()"
      ],
      "execution_count": 17,
      "outputs": [
        {
          "output_type": "execute_result",
          "data": {
            "text/plain": [
              "('15+0', '15')"
            ]
          },
          "metadata": {
            "tags": []
          },
          "execution_count": 17
        }
      ]
    },
    {
      "cell_type": "code",
      "metadata": {
        "id": "vB2uFc0EeUS0",
        "colab_type": "code",
        "colab": {}
      },
      "source": [
        "hidden=128\n",
        "Tx=5"
      ],
      "execution_count": 0,
      "outputs": []
    },
    {
      "cell_type": "code",
      "metadata": {
        "id": "45yGm76ffc7u",
        "colab_type": "code",
        "colab": {
          "base_uri": "https://localhost:8080/",
          "height": 289
        },
        "outputId": "19e8e1a4-54f0-471e-928b-cd78a843fa54"
      },
      "source": [
        "model =Sequential([\n",
        "                   SimpleRNN(hidden, input_shape=(None,num)),\n",
        "                   RepeatVector(Tx),\n",
        "                   SimpleRNN(hidden, return_sequences=True),\n",
        "                   TimeDistributed(Dense(num ,activation='softmax'))\n",
        "])\n",
        "\n",
        "model.compile(\n",
        "    loss='categorical_crossentropy',\n",
        "    optimizer='adam',\n",
        "    metrics=['accuracy'], \n",
        "              )\n",
        "\n",
        "model.summary()"
      ],
      "execution_count": 30,
      "outputs": [
        {
          "output_type": "stream",
          "text": [
            "Model: \"sequential_2\"\n",
            "_________________________________________________________________\n",
            "Layer (type)                 Output Shape              Param #   \n",
            "=================================================================\n",
            "simple_rnn_6 (SimpleRNN)     (None, 128)               17920     \n",
            "_________________________________________________________________\n",
            "repeat_vector_3 (RepeatVecto (None, 5, 128)            0         \n",
            "_________________________________________________________________\n",
            "simple_rnn_7 (SimpleRNN)     (None, 5, 128)            32896     \n",
            "_________________________________________________________________\n",
            "time_distributed_2 (TimeDist (None, 5, 11)             1419      \n",
            "=================================================================\n",
            "Total params: 52,235\n",
            "Trainable params: 52,235\n",
            "Non-trainable params: 0\n",
            "_________________________________________________________________\n"
          ],
          "name": "stdout"
        }
      ]
    },
    {
      "cell_type": "code",
      "metadata": {
        "id": "i_WlRjx8iiZB",
        "colab_type": "code",
        "colab": {}
      },
      "source": [
        "#vectorisation\n",
        "\n",
        "def vec(eg, label):\n",
        "  x=np.zeros((Tx, num))\n",
        "  y=np.zeros((Tx, num))\n",
        "\n",
        "  diff_x= Tx-len(eg)\n",
        "  diff_y=Tx-len(label)\n",
        "\n",
        "  for i,c in enumerate(eg):\n",
        "    x[i+diff_x, char_ind[c]]=1\n",
        "  for i in range(diff_x):\n",
        "    x[i,char_ind['0']]=1\n",
        "\n",
        "  for i,c in enumerate(label):\n",
        "    y[i+diff_y, char_ind[c]]=1\n",
        "  for i in range(diff_y):\n",
        "    y[i,char_ind['0']]=1\n",
        "\n",
        "    return x,y\n"
      ],
      "execution_count": 0,
      "outputs": []
    },
    {
      "cell_type": "code",
      "metadata": {
        "id": "OxEmhwnEdktn",
        "colab_type": "code",
        "colab": {
          "base_uri": "https://localhost:8080/",
          "height": 187
        },
        "outputId": "66b90595-86cc-4913-a83a-4b41fb03949e"
      },
      "source": [
        "egg, lbl= vec('3+43','56')\n",
        "print(egg)\n",
        "print(lbl)"
      ],
      "execution_count": 53,
      "outputs": [
        {
          "output_type": "stream",
          "text": [
            "[[1. 0. 0. 0. 0. 0. 0. 0. 0. 0. 0.]\n",
            " [0. 0. 0. 1. 0. 0. 0. 0. 0. 0. 0.]\n",
            " [0. 0. 0. 0. 0. 0. 0. 0. 0. 0. 1.]\n",
            " [0. 0. 0. 0. 1. 0. 0. 0. 0. 0. 0.]\n",
            " [0. 0. 0. 1. 0. 0. 0. 0. 0. 0. 0.]]\n",
            "[[1. 0. 0. 0. 0. 0. 0. 0. 0. 0. 0.]\n",
            " [0. 0. 0. 0. 0. 0. 0. 0. 0. 0. 0.]\n",
            " [0. 0. 0. 0. 0. 0. 0. 0. 0. 0. 0.]\n",
            " [0. 0. 0. 0. 0. 1. 0. 0. 0. 0. 0.]\n",
            " [0. 0. 0. 0. 0. 0. 1. 0. 0. 0. 0.]]\n"
          ],
          "name": "stdout"
        }
      ]
    },
    {
      "cell_type": "code",
      "metadata": {
        "id": "bm76D-2hhTDm",
        "colab_type": "code",
        "colab": {}
      },
      "source": [
        "#devec\n",
        "def devec(eg):\n",
        "  result= [ind_char[np.argmax(vec)] for i, vec in enumerate(eg)]\n",
        "  return ''.join(result)"
      ],
      "execution_count": 0,
      "outputs": []
    },
    {
      "cell_type": "code",
      "metadata": {
        "id": "XtDV2Xj_kZrP",
        "colab_type": "code",
        "colab": {
          "base_uri": "https://localhost:8080/",
          "height": 34
        },
        "outputId": "0ad4219d-dffd-49dd-f592-95e210c216d6"
      },
      "source": [
        "devec(egg)"
      ],
      "execution_count": 55,
      "outputs": [
        {
          "output_type": "execute_result",
          "data": {
            "text/plain": [
              "'03+43'"
            ]
          },
          "metadata": {
            "tags": []
          },
          "execution_count": 55
        }
      ]
    },
    {
      "cell_type": "code",
      "metadata": {
        "id": "ML8PwSpPkxnb",
        "colab_type": "code",
        "colab": {}
      },
      "source": [
        "#create dataset\n",
        "def create_data(num_eg=2000):\n",
        "  x=np.zeros((num_eg, Tx, num))\n",
        "  y=np.zeros((num_eg, Tx, num))\n",
        "\n",
        "  for i in range(num_eg):\n",
        "    q, a = generate()\n",
        "\n",
        "    x[i],y[i] = vec(q,a)\n",
        "\n",
        "  return x,y;"
      ],
      "execution_count": 0,
      "outputs": []
    },
    {
      "cell_type": "code",
      "metadata": {
        "id": "--Ut5ZyZncjo",
        "colab_type": "code",
        "colab": {
          "base_uri": "https://localhost:8080/",
          "height": 34
        },
        "outputId": "c9a0212a-ad9d-4ce5-81cf-fe10f3ceb02e"
      },
      "source": [
        "xx, yy= create_data()\n",
        "\n",
        "print(xx.shape)"
      ],
      "execution_count": 57,
      "outputs": [
        {
          "output_type": "stream",
          "text": [
            "(2000, 5, 11)\n"
          ],
          "name": "stdout"
        }
      ]
    },
    {
      "cell_type": "code",
      "metadata": {
        "id": "h30oek-ln_6a",
        "colab_type": "code",
        "colab": {
          "base_uri": "https://localhost:8080/",
          "height": 34
        },
        "outputId": "24cdfe4f-1830-403c-8b79-78b84c008358"
      },
      "source": [
        "print(devec(xx[9]))"
      ],
      "execution_count": 61,
      "outputs": [
        {
          "output_type": "stream",
          "text": [
            "43+63\n"
          ],
          "name": "stdout"
        }
      ]
    },
    {
      "cell_type": "code",
      "metadata": {
        "id": "qTMVEW2tpPMg",
        "colab_type": "code",
        "colab": {}
      },
      "source": [
        ""
      ],
      "execution_count": 0,
      "outputs": []
    }
  ]
}