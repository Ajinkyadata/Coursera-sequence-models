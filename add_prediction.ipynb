{
  "nbformat": 4,
  "nbformat_minor": 0,
  "metadata": {
    "colab": {
      "name": "add_prediction.ipynb",
      "provenance": [],
      "collapsed_sections": [],
      "authorship_tag": "ABX9TyMGYNCB1Lb92uXXtyigSW7O",
      "include_colab_link": true
    },
    "kernelspec": {
      "name": "python3",
      "display_name": "Python 3"
    }
  },
  "cells": [
    {
      "cell_type": "markdown",
      "metadata": {
        "id": "view-in-github",
        "colab_type": "text"
      },
      "source": [
        "<a href=\"https://colab.research.google.com/github/Ajinkyadata/Coursera-sequence-models/blob/master/add_prediction.ipynb\" target=\"_parent\"><img src=\"https://colab.research.google.com/assets/colab-badge.svg\" alt=\"Open In Colab\"/></a>"
      ]
    },
    {
      "cell_type": "code",
      "metadata": {
        "id": "Im_YtB1QeXkd",
        "colab_type": "code",
        "colab": {
          "base_uri": "https://localhost:8080/",
          "height": 34
        },
        "outputId": "ffd42904-708f-42b4-bf69-d4a59a5fbcac"
      },
      "source": [
        "import glob\n",
        "import pickle\n",
        "import numpy as np\n",
        "from music21 import converter, instrument, note, chord, stream\n",
        "from keras.models import Sequential\n",
        "from keras.layers import *\n",
        "from keras.utils import np_utils\n",
        "from keras.callbacks import ModelCheckpoint, LambdaCallback, EarlyStopping\n",
        "\n",
        "from termcolor import colored"
      ],
      "execution_count": 1,
      "outputs": [
        {
          "output_type": "stream",
          "text": [
            "Using TensorFlow backend.\n"
          ],
          "name": "stderr"
        }
      ]
    },
    {
      "cell_type": "code",
      "metadata": {
        "id": "Az7vBOtZdp1q",
        "colab_type": "code",
        "colab": {}
      },
      "source": [
        "chars = '0123456789+'"
      ],
      "execution_count": 0,
      "outputs": []
    },
    {
      "cell_type": "code",
      "metadata": {
        "id": "RdfnpRzsd2pE",
        "colab_type": "code",
        "colab": {}
      },
      "source": [
        "num=len(chars)"
      ],
      "execution_count": 0,
      "outputs": []
    },
    {
      "cell_type": "code",
      "metadata": {
        "id": "cK-sQNz3d9eV",
        "colab_type": "code",
        "colab": {}
      },
      "source": [
        "char_ind = dict((c,i) for i, c in enumerate(chars))\n",
        "ind_char=dict((i,c) for i,c in enumerate(chars))"
      ],
      "execution_count": 0,
      "outputs": []
    },
    {
      "cell_type": "code",
      "metadata": {
        "id": "MamCmLcuevyM",
        "colab_type": "code",
        "colab": {}
      },
      "source": [
        "def generate():\n",
        "  one=np.random.randint(0,100)\n",
        "  two=np.random.randint(0,100)\n",
        "\n",
        "  ans=str(one)+str('+')+str(two)\n",
        "  label=str(one+two)\n",
        "\n",
        "  return ans, label"
      ],
      "execution_count": 0,
      "outputs": []
    },
    {
      "cell_type": "code",
      "metadata": {
        "id": "1DHNurYcfVbK",
        "colab_type": "code",
        "outputId": "33406216-d94f-484d-cb83-cfbd63bd940b",
        "colab": {
          "base_uri": "https://localhost:8080/",
          "height": 34
        }
      },
      "source": [
        "generate()"
      ],
      "execution_count": 6,
      "outputs": [
        {
          "output_type": "execute_result",
          "data": {
            "text/plain": [
              "('42+34', '76')"
            ]
          },
          "metadata": {
            "tags": []
          },
          "execution_count": 6
        }
      ]
    },
    {
      "cell_type": "code",
      "metadata": {
        "id": "vB2uFc0EeUS0",
        "colab_type": "code",
        "colab": {}
      },
      "source": [
        "hidden=128\n",
        "Tx=5"
      ],
      "execution_count": 0,
      "outputs": []
    },
    {
      "cell_type": "code",
      "metadata": {
        "id": "45yGm76ffc7u",
        "colab_type": "code",
        "outputId": "c46c3a3d-fcbf-48a3-a146-6ef808174964",
        "colab": {
          "base_uri": "https://localhost:8080/",
          "height": 289
        }
      },
      "source": [
        "model =Sequential([\n",
        "                   SimpleRNN(hidden, input_shape=(None,num)),\n",
        "                   RepeatVector(Tx),\n",
        "                   SimpleRNN(hidden, return_sequences=True),\n",
        "                   TimeDistributed(Dense(num ,activation='softmax'))\n",
        "])\n",
        "\n",
        "model.compile(\n",
        "    loss='categorical_crossentropy',\n",
        "    optimizer='adam',\n",
        "    metrics=['accuracy'], \n",
        "              )\n",
        "\n",
        "model.summary()"
      ],
      "execution_count": 52,
      "outputs": [
        {
          "output_type": "stream",
          "text": [
            "Model: \"sequential_4\"\n",
            "_________________________________________________________________\n",
            "Layer (type)                 Output Shape              Param #   \n",
            "=================================================================\n",
            "simple_rnn_7 (SimpleRNN)     (None, 128)               17920     \n",
            "_________________________________________________________________\n",
            "repeat_vector_4 (RepeatVecto (None, 5, 128)            0         \n",
            "_________________________________________________________________\n",
            "simple_rnn_8 (SimpleRNN)     (None, 5, 128)            32896     \n",
            "_________________________________________________________________\n",
            "time_distributed_4 (TimeDist (None, 5, 11)             1419      \n",
            "=================================================================\n",
            "Total params: 52,235\n",
            "Trainable params: 52,235\n",
            "Non-trainable params: 0\n",
            "_________________________________________________________________\n"
          ],
          "name": "stdout"
        }
      ]
    },
    {
      "cell_type": "code",
      "metadata": {
        "id": "i_WlRjx8iiZB",
        "colab_type": "code",
        "colab": {}
      },
      "source": [
        "#vectorisation\n",
        "\n",
        "def vec(eg, label):\n",
        "  x=np.zeros((Tx, num))\n",
        "  y=np.zeros((Tx, num))\n",
        "\n",
        "  diff_x= Tx-len(eg)\n",
        "  diff_y=Tx-len(label)\n",
        "\n",
        "  for i,c in enumerate(eg):\n",
        "    x[i+diff_x, char_ind[c]]=1\n",
        "  for i in range(diff_x):\n",
        "    x[i,char_ind['0']]=1\n",
        "\n",
        "  for i,c in enumerate(label):\n",
        "    y[i+diff_y, char_ind[c]]=1\n",
        "  for i in range(diff_y):\n",
        "    y[i,char_ind['0']]=1\n",
        "\n",
        "    return x,y\n"
      ],
      "execution_count": 0,
      "outputs": []
    },
    {
      "cell_type": "code",
      "metadata": {
        "id": "OxEmhwnEdktn",
        "colab_type": "code",
        "outputId": "f541fa06-4a22-4ef7-b46d-56fe45fd8d95",
        "colab": {
          "base_uri": "https://localhost:8080/",
          "height": 187
        }
      },
      "source": [
        "egg, lbl= vec('3+43','56')\n",
        "print(egg)\n",
        "print(lbl)"
      ],
      "execution_count": 10,
      "outputs": [
        {
          "output_type": "stream",
          "text": [
            "[[1. 0. 0. 0. 0. 0. 0. 0. 0. 0. 0.]\n",
            " [0. 0. 0. 1. 0. 0. 0. 0. 0. 0. 0.]\n",
            " [0. 0. 0. 0. 0. 0. 0. 0. 0. 0. 1.]\n",
            " [0. 0. 0. 0. 1. 0. 0. 0. 0. 0. 0.]\n",
            " [0. 0. 0. 1. 0. 0. 0. 0. 0. 0. 0.]]\n",
            "[[1. 0. 0. 0. 0. 0. 0. 0. 0. 0. 0.]\n",
            " [0. 0. 0. 0. 0. 0. 0. 0. 0. 0. 0.]\n",
            " [0. 0. 0. 0. 0. 0. 0. 0. 0. 0. 0.]\n",
            " [0. 0. 0. 0. 0. 1. 0. 0. 0. 0. 0.]\n",
            " [0. 0. 0. 0. 0. 0. 1. 0. 0. 0. 0.]]\n"
          ],
          "name": "stdout"
        }
      ]
    },
    {
      "cell_type": "code",
      "metadata": {
        "id": "bm76D-2hhTDm",
        "colab_type": "code",
        "colab": {}
      },
      "source": [
        "#devec\n",
        "def devec(eg):\n",
        "  result= [ind_char[np.argmax(vec)] for i, vec in enumerate(eg)]\n",
        "  return ''.join(result)"
      ],
      "execution_count": 0,
      "outputs": []
    },
    {
      "cell_type": "code",
      "metadata": {
        "id": "XtDV2Xj_kZrP",
        "colab_type": "code",
        "outputId": "65c00eb8-d0bb-4fd3-df60-3f32c23633b9",
        "colab": {
          "base_uri": "https://localhost:8080/",
          "height": 34
        }
      },
      "source": [
        "devec(egg)"
      ],
      "execution_count": 12,
      "outputs": [
        {
          "output_type": "execute_result",
          "data": {
            "text/plain": [
              "'03+43'"
            ]
          },
          "metadata": {
            "tags": []
          },
          "execution_count": 12
        }
      ]
    },
    {
      "cell_type": "code",
      "metadata": {
        "id": "ML8PwSpPkxnb",
        "colab_type": "code",
        "colab": {}
      },
      "source": [
        "#create dataset\n",
        "def create_data(num_eg=4000):\n",
        "  x=np.zeros((num_eg, Tx, num))\n",
        "  y=np.zeros((num_eg, Tx, num))\n",
        "\n",
        "  for i in range(num_eg):\n",
        "    q, a = generate()\n",
        "\n",
        "    x[i],y[i] = vec(q,a)\n",
        "\n",
        "  return x,y;"
      ],
      "execution_count": 0,
      "outputs": []
    },
    {
      "cell_type": "code",
      "metadata": {
        "id": "--Ut5ZyZncjo",
        "colab_type": "code",
        "outputId": "f2e407de-8dcf-4ce4-b429-7b73fcfd1891",
        "colab": {
          "base_uri": "https://localhost:8080/",
          "height": 34
        }
      },
      "source": [
        "xx, yy= create_data()\n",
        "\n",
        "print(xx.shape)"
      ],
      "execution_count": 49,
      "outputs": [
        {
          "output_type": "stream",
          "text": [
            "(4000, 5, 11)\n"
          ],
          "name": "stdout"
        }
      ]
    },
    {
      "cell_type": "code",
      "metadata": {
        "id": "h30oek-ln_6a",
        "colab_type": "code",
        "outputId": "b58848da-74c5-461d-a333-b5436719cc44",
        "colab": {
          "base_uri": "https://localhost:8080/",
          "height": 34
        }
      },
      "source": [
        "print(devec(xx[9]))"
      ],
      "execution_count": 50,
      "outputs": [
        {
          "output_type": "stream",
          "text": [
            "70+42\n"
          ],
          "name": "stdout"
        }
      ]
    },
    {
      "cell_type": "code",
      "metadata": {
        "id": "qTMVEW2tpPMg",
        "colab_type": "code",
        "outputId": "2b0f3747-a385-41f6-e435-f8dfc14371fc",
        "colab": {
          "base_uri": "https://localhost:8080/",
          "height": 1000
        }
      },
      "source": [
        "#training\n",
        "\n",
        "call_b= LambdaCallback(\n",
        "    on_epoch_end=lambda e, l: print(e, end='--')\n",
        "    )\n",
        "\n",
        "early= EarlyStopping(monitor='val_loss', patience=20)\n",
        "model.fit(xx,yy,epochs=500, batch_size=256 ,validation_split=0.2,\n",
        "          verbose=1, callbacks=[early,call_b])\n",
        "\n",
        "\"\"\"scores = model.evaluate(xx, yy,verbose=0)\n",
        "print (\"Train loss : %.3f\" % scores[0])\n",
        "print (\"Train accuracy : %.3f\" % scores[1])\n",
        "print (\"Training finished\") \"\"\""
      ],
      "execution_count": 62,
      "outputs": [
        {
          "output_type": "stream",
          "text": [
            "Train on 3200 samples, validate on 800 samples\n",
            "Epoch 1/500\n",
            "3200/3200 [==============================] - 0s 89us/step - loss: 0.0016 - accuracy: 0.7649 - val_loss: 0.0699 - val_accuracy: 0.7387\n",
            "0--Epoch 2/500\n",
            "3200/3200 [==============================] - 0s 87us/step - loss: 0.0016 - accuracy: 0.7651 - val_loss: 0.0703 - val_accuracy: 0.7395\n",
            "1--Epoch 3/500\n",
            "3200/3200 [==============================] - 0s 87us/step - loss: 0.0016 - accuracy: 0.7649 - val_loss: 0.0691 - val_accuracy: 0.7385\n",
            "2--Epoch 4/500\n",
            "3200/3200 [==============================] - 0s 91us/step - loss: 0.0016 - accuracy: 0.7646 - val_loss: 0.0688 - val_accuracy: 0.7398\n",
            "3--Epoch 5/500\n",
            "3200/3200 [==============================] - 0s 85us/step - loss: 0.0015 - accuracy: 0.7649 - val_loss: 0.0689 - val_accuracy: 0.7400\n",
            "4--Epoch 6/500\n",
            "3200/3200 [==============================] - 0s 85us/step - loss: 0.0015 - accuracy: 0.7651 - val_loss: 0.0696 - val_accuracy: 0.7398\n",
            "5--Epoch 7/500\n",
            "3200/3200 [==============================] - 0s 90us/step - loss: 0.0015 - accuracy: 0.7651 - val_loss: 0.0697 - val_accuracy: 0.7400\n",
            "6--Epoch 8/500\n",
            "3200/3200 [==============================] - 0s 89us/step - loss: 0.0014 - accuracy: 0.7652 - val_loss: 0.0689 - val_accuracy: 0.7398\n",
            "7--Epoch 9/500\n",
            "3200/3200 [==============================] - 0s 89us/step - loss: 0.0014 - accuracy: 0.7648 - val_loss: 0.0702 - val_accuracy: 0.7405\n",
            "8--Epoch 10/500\n",
            "3200/3200 [==============================] - 0s 91us/step - loss: 0.0014 - accuracy: 0.7650 - val_loss: 0.0695 - val_accuracy: 0.7395\n",
            "9--Epoch 11/500\n",
            "3200/3200 [==============================] - 0s 90us/step - loss: 0.0014 - accuracy: 0.7648 - val_loss: 0.0689 - val_accuracy: 0.7398\n",
            "10--Epoch 12/500\n",
            "3200/3200 [==============================] - 0s 86us/step - loss: 0.0013 - accuracy: 0.7653 - val_loss: 0.0690 - val_accuracy: 0.7408\n",
            "11--Epoch 13/500\n",
            "3200/3200 [==============================] - 0s 89us/step - loss: 0.0013 - accuracy: 0.7644 - val_loss: 0.0701 - val_accuracy: 0.7398\n",
            "12--Epoch 14/500\n",
            "3200/3200 [==============================] - 0s 86us/step - loss: 0.0013 - accuracy: 0.7645 - val_loss: 0.0688 - val_accuracy: 0.7408\n",
            "13--Epoch 15/500\n",
            "3200/3200 [==============================] - 0s 89us/step - loss: 0.0013 - accuracy: 0.7650 - val_loss: 0.0698 - val_accuracy: 0.7410\n",
            "14--Epoch 16/500\n",
            "3200/3200 [==============================] - 0s 85us/step - loss: 0.0012 - accuracy: 0.7648 - val_loss: 0.0688 - val_accuracy: 0.7402\n",
            "15--Epoch 17/500\n",
            "3200/3200 [==============================] - 0s 86us/step - loss: 0.0012 - accuracy: 0.7648 - val_loss: 0.0694 - val_accuracy: 0.7408\n",
            "16--Epoch 18/500\n",
            "3200/3200 [==============================] - 0s 85us/step - loss: 0.0012 - accuracy: 0.7649 - val_loss: 0.0693 - val_accuracy: 0.7400\n",
            "17--Epoch 19/500\n",
            "3200/3200 [==============================] - 0s 88us/step - loss: 0.0012 - accuracy: 0.7653 - val_loss: 0.0686 - val_accuracy: 0.7408\n",
            "18--Epoch 20/500\n",
            "3200/3200 [==============================] - 0s 93us/step - loss: 0.0012 - accuracy: 0.7652 - val_loss: 0.0701 - val_accuracy: 0.7408\n",
            "19--Epoch 21/500\n",
            "3200/3200 [==============================] - 0s 85us/step - loss: 0.0011 - accuracy: 0.7644 - val_loss: 0.0693 - val_accuracy: 0.7408\n",
            "20--Epoch 22/500\n",
            "3200/3200 [==============================] - 0s 88us/step - loss: 0.0011 - accuracy: 0.7643 - val_loss: 0.0690 - val_accuracy: 0.7395\n",
            "21--Epoch 23/500\n",
            "3200/3200 [==============================] - 0s 89us/step - loss: 0.0011 - accuracy: 0.7647 - val_loss: 0.0689 - val_accuracy: 0.7402\n",
            "22--Epoch 24/500\n",
            "3200/3200 [==============================] - 0s 83us/step - loss: 0.0011 - accuracy: 0.7649 - val_loss: 0.0695 - val_accuracy: 0.7408\n",
            "23--Epoch 25/500\n",
            "3200/3200 [==============================] - 0s 87us/step - loss: 0.0011 - accuracy: 0.7651 - val_loss: 0.0695 - val_accuracy: 0.7408\n",
            "24--Epoch 26/500\n",
            "3200/3200 [==============================] - 0s 87us/step - loss: 0.0011 - accuracy: 0.7648 - val_loss: 0.0691 - val_accuracy: 0.7412\n",
            "25--Epoch 27/500\n",
            "3200/3200 [==============================] - 0s 85us/step - loss: 0.0010 - accuracy: 0.7650 - val_loss: 0.0683 - val_accuracy: 0.7402\n",
            "26--Epoch 28/500\n",
            "3200/3200 [==============================] - 0s 92us/step - loss: 0.0010 - accuracy: 0.7649 - val_loss: 0.0695 - val_accuracy: 0.7410\n",
            "27--Epoch 29/500\n",
            "3200/3200 [==============================] - 0s 88us/step - loss: 0.0010 - accuracy: 0.7646 - val_loss: 0.0692 - val_accuracy: 0.7412\n",
            "28--Epoch 30/500\n",
            "3200/3200 [==============================] - 0s 88us/step - loss: 9.9438e-04 - accuracy: 0.7653 - val_loss: 0.0693 - val_accuracy: 0.7412\n",
            "29--Epoch 31/500\n",
            "3200/3200 [==============================] - 0s 88us/step - loss: 9.8233e-04 - accuracy: 0.7650 - val_loss: 0.0696 - val_accuracy: 0.7418\n",
            "30--Epoch 32/500\n",
            "3200/3200 [==============================] - 0s 86us/step - loss: 9.6496e-04 - accuracy: 0.7642 - val_loss: 0.0690 - val_accuracy: 0.7420\n",
            "31--Epoch 33/500\n",
            "3200/3200 [==============================] - 0s 89us/step - loss: 9.4990e-04 - accuracy: 0.7653 - val_loss: 0.0703 - val_accuracy: 0.7418\n",
            "32--Epoch 34/500\n",
            "3200/3200 [==============================] - 0s 85us/step - loss: 9.3704e-04 - accuracy: 0.7651 - val_loss: 0.0688 - val_accuracy: 0.7415\n",
            "33--Epoch 35/500\n",
            "3200/3200 [==============================] - 0s 85us/step - loss: 9.2134e-04 - accuracy: 0.7651 - val_loss: 0.0697 - val_accuracy: 0.7410\n",
            "34--Epoch 36/500\n",
            "3200/3200 [==============================] - 0s 85us/step - loss: 9.0853e-04 - accuracy: 0.7654 - val_loss: 0.0690 - val_accuracy: 0.7418\n",
            "35--Epoch 37/500\n",
            "3200/3200 [==============================] - 0s 89us/step - loss: 8.9200e-04 - accuracy: 0.7649 - val_loss: 0.0695 - val_accuracy: 0.7402\n",
            "36--Epoch 38/500\n",
            "3200/3200 [==============================] - 0s 85us/step - loss: 8.8030e-04 - accuracy: 0.7651 - val_loss: 0.0694 - val_accuracy: 0.7425\n",
            "37--Epoch 39/500\n",
            "3200/3200 [==============================] - 0s 86us/step - loss: 8.6403e-04 - accuracy: 0.7651 - val_loss: 0.0687 - val_accuracy: 0.7415\n",
            "38--Epoch 40/500\n",
            "3200/3200 [==============================] - 0s 90us/step - loss: 8.5172e-04 - accuracy: 0.7649 - val_loss: 0.0689 - val_accuracy: 0.7408\n",
            "39--Epoch 41/500\n",
            "3200/3200 [==============================] - 0s 86us/step - loss: 8.4160e-04 - accuracy: 0.7647 - val_loss: 0.0693 - val_accuracy: 0.7423\n",
            "40--Epoch 42/500\n",
            "3200/3200 [==============================] - 0s 87us/step - loss: 8.2991e-04 - accuracy: 0.7649 - val_loss: 0.0698 - val_accuracy: 0.7408\n",
            "41--Epoch 43/500\n",
            "3200/3200 [==============================] - 0s 90us/step - loss: 8.1782e-04 - accuracy: 0.7651 - val_loss: 0.0691 - val_accuracy: 0.7418\n",
            "42--Epoch 44/500\n",
            "3200/3200 [==============================] - 0s 88us/step - loss: 8.0635e-04 - accuracy: 0.7646 - val_loss: 0.0697 - val_accuracy: 0.7402\n",
            "43--Epoch 45/500\n",
            "3200/3200 [==============================] - 0s 88us/step - loss: 7.9537e-04 - accuracy: 0.7650 - val_loss: 0.0689 - val_accuracy: 0.7412\n",
            "44--Epoch 46/500\n",
            "3200/3200 [==============================] - 0s 86us/step - loss: 7.8485e-04 - accuracy: 0.7648 - val_loss: 0.0696 - val_accuracy: 0.7408\n",
            "45--Epoch 47/500\n",
            "3200/3200 [==============================] - 0s 88us/step - loss: 7.7615e-04 - accuracy: 0.7657 - val_loss: 0.0692 - val_accuracy: 0.7410\n",
            "46--"
          ],
          "name": "stdout"
        },
        {
          "output_type": "execute_result",
          "data": {
            "text/plain": [
              "'scores = model.evaluate(xx, yy,verbose=0)\\nprint (\"Train loss : %.3f\" % scores[0])\\nprint (\"Train accuracy : %.3f\" % scores[1])\\nprint (\"Training finished\") '"
            ]
          },
          "metadata": {
            "tags": []
          },
          "execution_count": 62
        }
      ]
    },
    {
      "cell_type": "code",
      "metadata": {
        "id": "BXvdBkAVwJKF",
        "colab_type": "code",
        "outputId": "a4e7bf9d-b187-4b9c-9c9a-dbf2839ff215",
        "colab": {
          "base_uri": "https://localhost:8080/",
          "height": 187
        }
      },
      "source": [
        "x_test, y_test= create_data(10)\n",
        "\n",
        "pred=model.predict(x_test)\n",
        "for i,hat in enumerate(pred):\n",
        "  y=devec(y_test[i])\n",
        "  y_hat=devec(hat)\n",
        "  col='green'\n",
        "  if y!=y_hat:\n",
        "    col='red'\n",
        "  out='input: '+devec(x_test[i])+' our prediction: '+y_hat+' actual output:'+y\n",
        "  print(colored(out, col))"
      ],
      "execution_count": 75,
      "outputs": [
        {
          "output_type": "stream",
          "text": [
            "\u001b[31minput: 09+43 our prediction: 01152 actual output:00052\u001b[0m\n",
            "\u001b[32minput: 91+75 our prediction: 00166 actual output:00166\u001b[0m\n",
            "\u001b[31minput: 14+13 our prediction: 00127 actual output:00027\u001b[0m\n",
            "\u001b[32minput: 85+47 our prediction: 00132 actual output:00132\u001b[0m\n",
            "\u001b[31minput: 61+43 our prediction: 01104 actual output:00104\u001b[0m\n",
            "\u001b[31minput: 56+53 our prediction: 01109 actual output:00109\u001b[0m\n",
            "\u001b[32minput: 89+80 our prediction: 00169 actual output:00169\u001b[0m\n",
            "\u001b[31minput: 053+0 our prediction: 06162 actual output:00053\u001b[0m\n",
            "\u001b[31minput: 77+70 our prediction: 01147 actual output:00147\u001b[0m\n",
            "\u001b[31minput: 78+99 our prediction: 01177 actual output:00177\u001b[0m\n"
          ],
          "name": "stdout"
        }
      ]
    },
    {
      "cell_type": "code",
      "metadata": {
        "id": "EyQwpx-W-5BD",
        "colab_type": "code",
        "colab": {}
      },
      "source": [
        ""
      ],
      "execution_count": 0,
      "outputs": []
    }
  ]
}